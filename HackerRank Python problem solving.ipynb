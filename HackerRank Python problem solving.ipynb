{
 "cells": [
  {
   "cell_type": "markdown",
   "metadata": {},
   "source": [
    "\n",
    "\n",
    "# Task 1 \n",
    "### Given an integer, n, perform the following conditional actions:\n",
    "- If n is odd, print Weird\n",
    "- If n is even and in the inclusive range of 2 to 5, print Not Weird\n",
    "- If n is even and in the inclusive range of 6 to 20, print Weird\n",
    "- If n is even and greater than 20, print Not Weird\n",
    "\n",
    "## Input Format\n",
    "### A single line containing a positive integer, n.\n",
    "\n",
    "## Constraints\n",
    "### 1 <= n <= 100\n",
    "\n",
    "## Output Format\n",
    "### Print Weird if the number is weird; otherwise, print Not Weird.\n"
   ]
  },
  {
   "cell_type": "code",
   "execution_count": 113,
   "metadata": {},
   "outputs": [
    {
     "name": "stdout",
     "output_type": "stream",
     "text": [
      "4\n",
      "Not Weird\n"
     ]
    }
   ],
   "source": [
    "n = int(input().strip())\n",
    "\n",
    "if n%2 !=0:\n",
    "    print('Weird')\n",
    "else:\n",
    "    if n>2 & n<5:\n",
    "        print('Not Weird')\n",
    "    elif n>6 & n<20:\n",
    "        print('Weird')\n",
    "    elif n> 20 :\n",
    "        print('Weird')"
   ]
  },
  {
   "cell_type": "markdown",
   "metadata": {},
   "source": [
    "-------------------------------------------------------------------------------------------------------------------------------"
   ]
  },
  {
   "cell_type": "markdown",
   "metadata": {},
   "source": [
    "# Task 2\n",
    "#### Read two integers from STDIN and print three lines where:\n",
    "\n",
    "- The first line contains the sum of the two numbers.\n",
    "- The second line contains the difference of the two numbers (first - second).\n",
    "- The third line contains the product of the two numbers.\n",
    "\n",
    "## Input Format\n",
    "\n",
    "### The first line contains the first integer, . The second line contains the second integer, .\n",
    "\n",
    "\n",
    "## Output Format\n",
    "\n",
    "### Print the three lines as explained above."
   ]
  },
  {
   "cell_type": "code",
   "execution_count": 15,
   "metadata": {},
   "outputs": [
    {
     "name": "stdout",
     "output_type": "stream",
     "text": [
      "3\n",
      "2\n",
      "output\n",
      "\n",
      "5\n",
      "1\n",
      "6\n"
     ]
    }
   ],
   "source": [
    "a= int(input())\n",
    "b= int(input())\n",
    "\n",
    "print('output\\n')\n",
    "print(a+b)\n",
    "print(a-b)\n",
    "print(a*b)"
   ]
  },
  {
   "cell_type": "markdown",
   "metadata": {},
   "source": [
    "# Task 3\n",
    "### Read two integers and print two lines. The first line should contain integer division, a // b. The second line should contain float division, a / b.\n",
    "\n",
    "### You don't need to perform any rounding or formatting operations.\n",
    "\n",
    "## Input Format\n",
    "\n",
    "### The first line contains the first integer, . The second line contains the second integer, .\n",
    "\n",
    "## Output Format\n",
    "\n",
    "### Print the two lines as described above."
   ]
  },
  {
   "cell_type": "code",
   "execution_count": 14,
   "metadata": {},
   "outputs": [
    {
     "name": "stdout",
     "output_type": "stream",
     "text": [
      "4\n",
      "3\n",
      "output \n",
      "\n",
      "1\n",
      "1.3333333333333333\n"
     ]
    }
   ],
   "source": [
    "if __name__ == '__main__':\n",
    "    a = int(input())\n",
    "    b = int(input())\n",
    "    print('output \\n')\n",
    "    print(a//b)\n",
    "    print(a/b)"
   ]
  },
  {
   "cell_type": "markdown",
   "metadata": {},
   "source": [
    "_______________________________________________________________________________________________________________________________"
   ]
  },
  {
   "cell_type": "markdown",
   "metadata": {},
   "source": [
    "# Task 4\n",
    "\n",
    "### find the length and sum of elements in an array."
   ]
  },
  {
   "cell_type": "code",
   "execution_count": 59,
   "metadata": {},
   "outputs": [
    {
     "name": "stdout",
     "output_type": "stream",
     "text": [
      "5\n",
      "1 2 3 4 5\n",
      "The sum of the array element is 15\n"
     ]
    }
   ],
   "source": [
    "def simpleArraySum(ar):\n",
    "    result=sum(ar) \n",
    "    return result\n",
    "if __name__ == '__main__':\n",
    "    ar_count = int(input())\n",
    "\n",
    "    ar = list(map(int, input().rstrip().split()))\n",
    "\n",
    "    result = simpleArraySum(ar)\n",
    "    print('The sum of the array element is',result)\n"
   ]
  },
  {
   "cell_type": "markdown",
   "metadata": {},
   "source": [
    "-------------------------------------------------------------------------------------------------------------------------------------------------------------------------------------------------------------------------------------------------------------"
   ]
  },
  {
   "cell_type": "markdown",
   "metadata": {},
   "source": [
    "# Task 5\n",
    "\n",
    "### compare the score of Alice and bob.\n"
   ]
  },
  {
   "cell_type": "code",
   "execution_count": 154,
   "metadata": {},
   "outputs": [
    {
     "name": "stdout",
     "output_type": "stream",
     "text": [
      "23 45 76\n",
      "12 45 89\n",
      "1 1\n"
     ]
    }
   ],
   "source": [
    "import sys\n",
    "\n",
    "def compare_the_score(a, b):\n",
    "    Alice = 0\n",
    "    Bob = 0\n",
    "    for i in range(len(a)):\n",
    "        if a[i] > b[i]:\n",
    "            Alice += 1\n",
    "        elif a[i] < b[i]:\n",
    "            Bob += 1\n",
    "    return Alice , Bob\n",
    "\n",
    "a0,a1,a2 = input().strip().split(' ')\n",
    "a = [int(a0),int(a1),int(a2)]\n",
    "\n",
    "b0,b1,b2 = input().strip().split(' ')\n",
    "b = [int(b0),int(b1),int(b2)]\n",
    "\n",
    "print('%d %d' % compare_the_score(a,b))"
   ]
  },
  {
   "cell_type": "markdown",
   "metadata": {},
   "source": [
    "# Task 6\n",
    "### Calculate and print the sum of the elements in an array, keeping in mind that some of those integers may be quite large.\n",
    "\n",
    "## Function Description\n",
    "\n",
    "#### Complete the aVeryBigSum function in the editor below. It must return the sum of all array elements.\n",
    "\n",
    "#### aVeryBigSum has the following parameter(s):\n",
    "\n",
    "- ar: an array of integers .\n",
    "\n",
    "## Input Format\n",
    "\n",
    "- The first line of the input consists of an integer .\n",
    "- The next line contains  space-separated integers contained in the array.\n",
    "\n",
    "## Output Format\n",
    "\n",
    "### Print the integer sum of the elements in the array.\n",
    "\n",
    "\n",
    "\n",
    "\n",
    "## Sample Input\n",
    "\n",
    "#### 5\n",
    "#### 1000000001 1000000002 1000000003 1000000004 1000000005\n",
    "\n",
    "## Output\n",
    "\n",
    "#### 5000000015\n",
    "\n",
    "## Note:\n",
    "\n",
    "#### The range of the 32-bit integer is .\n",
    "#### When we add several integer values, the resulting sum might exceed the above range. You might need to use long long int in C/C++ or long data type in Java to store such sums."
   ]
  },
  {
   "cell_type": "code",
   "execution_count": 65,
   "metadata": {},
   "outputs": [
    {
     "name": "stdout",
     "output_type": "stream",
     "text": [
      "5\n",
      "1000000001 1000000002 1000000003 1000000004 1000000005\n",
      "The sum of the array element is 5000000015\n"
     ]
    }
   ],
   "source": [
    "def aVeryBigSum(ar):\n",
    "    result = sum(ar)\n",
    "    return result\n",
    "if __name__ == '__main__':\n",
    "    ar_count = int(input())\n",
    "    \n",
    "    ar = list(map(int,input().rstrip().split()))\n",
    "    \n",
    "    result = aVeryBigSum(ar)\n",
    "    print('The sum of the array element is',result)"
   ]
  },
  {
   "cell_type": "markdown",
   "metadata": {},
   "source": [
    "# Task 7\n",
    "### Given a square matrix, calculate the absolute difference between the sums of its diagonals.\n",
    "\n",
    "#### For example, the square matrix  is shown below:\n",
    "\n",
    "###### 1 2 3\n",
    "###### 4 5 6\n",
    "###### 9 8 9\n",
    "##### The left-to-right diagonal =1+5+9 = 15 . The right to left diagonal = 3+5+9 = 17 . Their absolute difference is|15 -17| = 2 .\n",
    "\n"
   ]
  },
  {
   "cell_type": "code",
   "execution_count": 81,
   "metadata": {},
   "outputs": [
    {
     "name": "stdout",
     "output_type": "stream",
     "text": [
      "3\n",
      "11 2 4\n",
      " 4 5 6 \n",
      "10 8 -12\n",
      "15\n"
     ]
    }
   ],
   "source": [
    "\n",
    "import math\n",
    "import os\n",
    "import random\n",
    "import re\n",
    "import sys\n",
    "\n",
    "# Complete the diagonalDifference function below.\n",
    "def diagonalDifference(arr):\n",
    "    prim =0\n",
    "    sec=0\n",
    "    length = len(arr[0])\n",
    "    for count in range(length):\n",
    "        prim += arr[count][count]\n",
    "        sec += arr[count][(length-count-1)]\n",
    "    return abs(prim-sec)\n",
    "    \n",
    "\n",
    "if __name__ == '__main__':\n",
    "\n",
    "    n = int(input())\n",
    "\n",
    "    arr = []\n",
    "\n",
    "    for _ in range(n):\n",
    "        arr.append(list(map(int, input().rstrip().split())))\n",
    "\n",
    "    result = diagonalDifference(arr)\n",
    "    print(result)\n",
    "\n",
    "\n",
    "\n"
   ]
  },
  {
   "cell_type": "markdown",
   "metadata": {},
   "source": [
    "-------------------------------------------------------------------------------------------------------------------------------"
   ]
  },
  {
   "cell_type": "markdown",
   "metadata": {},
   "source": [
    "# Task 8\n",
    "Given an array of integers, calculate the fractions of its elements that are positive, negative, and are zeros. Print the decimal value of each fraction on a new line.\n",
    "\n",
    "Input Format\n",
    "\n",
    "The first line contains an integer,n, denoting the size of the array.\n",
    "The second line contains n space-separated integers describing an array of numbers .\n",
    "\n",
    "\n",
    "\n",
    "\n",
    "\n",
    "### Output Format\n",
    "\n",
    "##### You must print the following 3 lines:\n",
    "\n",
    "1. A decimal representing of the fraction of positive numbers in the array compared to its size.\n",
    "2. A decimal representing of the fraction of negative numbers in the array compared to its size.\n",
    "3. A decimal representing of the fraction of zeros in the array compared to its size.\n",
    "\n",
    "### Sample Input\n",
    "\n",
    "###### 6\n",
    "###### -4 3 -9 0 4 1         \n",
    "### Sample Output\n",
    "\n",
    "###### 0.500000\n",
    "###### 0.333333\n",
    "###### 0.166667"
   ]
  },
  {
   "cell_type": "code",
   "execution_count": 87,
   "metadata": {},
   "outputs": [
    {
     "name": "stdout",
     "output_type": "stream",
     "text": [
      "6\n",
      "-4 3 -9 0 4 1\n",
      "0.5\n",
      "0.3333333333333333\n",
      "0.16666666666666666\n"
     ]
    }
   ],
   "source": [
    "def PlusMinus(arr):\n",
    "    pos = 0\n",
    "    neg = 0\n",
    "    neu = 0\n",
    "    for i in range(len(arr)):\n",
    "        if arr[i] > 0:\n",
    "            pos+= 1\n",
    "        elif arr[i] < 0:\n",
    "            neg += 1\n",
    "        else:\n",
    "            neu+=1\n",
    "            \n",
    "    print(pos/len(arr))\n",
    "    print(neg/len(arr))\n",
    "    print(neu/len(arr))\n",
    "    \n",
    "    \n",
    "n = int(input())\n",
    "arr = list(map(int,input().rstrip().split()))\n",
    "\n",
    "PlusMinus(arr)"
   ]
  },
  {
   "cell_type": "markdown",
   "metadata": {},
   "source": [
    "--------------------------------------------------------------------------------------------------------------------------------------"
   ]
  },
  {
   "cell_type": "markdown",
   "metadata": {},
   "source": [
    "# Task 9\n",
    "\n",
    "Consider a staircase of size N=4:\n",
    "\n",
    "   #\n",
    "  ##\n",
    " ###\n",
    "####\n",
    "\n",
    "#### Observe that its base and height are both equal to n, and the image is drawn using # symbols and spaces. The last line is not preceded by any spaces.\n",
    "#### Write a program that prints a staircase of size n."
   ]
  },
  {
   "cell_type": "code",
   "execution_count": 97,
   "metadata": {},
   "outputs": [
    {
     "name": "stdout",
     "output_type": "stream",
     "text": [
      "6\n",
      "     #\n",
      "    ##\n",
      "   ###\n",
      "  ####\n",
      " #####\n",
      "######\n"
     ]
    }
   ],
   "source": [
    "def staircase(n):\n",
    "    for i in range(1,n+1):\n",
    "        print(\" \"*(n-i)+\"#\"*i)    \n",
    "    \n",
    "n=int(input())\n",
    "staircase(n)"
   ]
  },
  {
   "cell_type": "markdown",
   "metadata": {},
   "source": [
    "--------------------------------------------------------------------------------------------------------------------------------"
   ]
  },
  {
   "cell_type": "markdown",
   "metadata": {},
   "source": [
    "# Task 10\n",
    "Given five positive integers, find the minimum and maximum values that can be calculated by summing exactly four of the five integers. Then print the respective minimum and maximum values as a single line of two space-separated long integers.\n",
    "\n",
    "For example,arr = [1,3,5,7,9]. Our minimum sum is 1+3+5+7 = 16 and our maximum sum is 2+5+7+9 =24. We would print\n",
    "\n",
    "16 24\n",
    "\n",
    "## Sample Input\n",
    "\n",
    "1 2 3 4 5\n",
    "## Sample Output\n",
    "\n",
    "10 14\n",
    "\n",
    "\n"
   ]
  },
  {
   "cell_type": "code",
   "execution_count": 108,
   "metadata": {},
   "outputs": [
    {
     "name": "stdout",
     "output_type": "stream",
     "text": [
      "1 2 3 4 5\n",
      "10 14\n"
     ]
    }
   ],
   "source": [
    "def miniMaxSum(arr):\n",
    "    sum = 0\n",
    "    for i in range(len(arr)):\n",
    "        sum+=arr[i]\n",
    "    print ( sum-max(arr), sum-min(arr))\n",
    "        \n",
    "arr = list(map(int,input().rstrip().split()))\n",
    "miniMaxSum(arr)"
   ]
  },
  {
   "cell_type": "code",
   "execution_count": null,
   "metadata": {},
   "outputs": [],
   "source": []
  }
 ],
 "metadata": {
  "kernelspec": {
   "display_name": "Python 3",
   "language": "python",
   "name": "python3"
  },
  "language_info": {
   "codemirror_mode": {
    "name": "ipython",
    "version": 3
   },
   "file_extension": ".py",
   "mimetype": "text/x-python",
   "name": "python",
   "nbconvert_exporter": "python",
   "pygments_lexer": "ipython3",
   "version": "3.7.4"
  }
 },
 "nbformat": 4,
 "nbformat_minor": 2
}
